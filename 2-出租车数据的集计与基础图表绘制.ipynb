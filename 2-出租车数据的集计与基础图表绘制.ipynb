{
 "cells": [
  {
   "cell_type": "code",
   "execution_count": 2,
   "id": "01627ff9-0b9f-46b1-b55d-3e9902bb8fa0",
   "metadata": {},
   "outputs": [],
   "source": [
    "import pandas as pd"
   ]
  },
  {
   "cell_type": "code",
   "execution_count": 3,
   "id": "21fef396-73e5-47b2-a075-5d83ff41af6f",
   "metadata": {},
   "outputs": [],
   "source": [
    "########### 读取数据\n",
    "data = pd.read_csv(r'data-sample/TaxiData-Sample', header=None)\n",
    "data.columns = ['VehicleNum', 'Stime', 'Lng', 'Lat', 'OpenStatus', 'Speed']\n",
    "\n",
    "# 读取OD数据\n",
    "TaxiOD = pd.read_csv(r'data-sample/TaxiOD.csv')\n",
    "TaxiOD.columns = ['VehicleNum', 'Stime', 'SLng', 'SLat',\n",
    "                  'ELng', 'ELat', 'Etime']"
   ]
  },
  {
   "cell_type": "markdown",
   "id": "91cf6375-50a9-4cd4-8009-537815851de5",
   "metadata": {},
   "source": [
    "# 每小时GPS数据量绘图\n",
    "\n",
    "我们要集计每小时的数据，那就需要有一列的内容表示数据哪个每小时，然后以那列数据为集计。\n",
    "\n",
    "因此这里我们对data的Stime列处理，得到该时间所属的小时，例如：\n",
    "\n",
    "|Stime | |Hour |<br>\n",
    "|---- | |----|<br>\n",
    "|22:54:04|→|22|<br>"
   ]
  },
  {
   "cell_type": "code",
   "execution_count": 6,
   "id": "2b6f9518-fca3-4db9-a58c-c7b3ca4a73ed",
   "metadata": {},
   "outputs": [
    {
     "data": {
      "text/html": [
       "<div>\n",
       "<style scoped>\n",
       "    .dataframe tbody tr th:only-of-type {\n",
       "        vertical-align: middle;\n",
       "    }\n",
       "\n",
       "    .dataframe tbody tr th {\n",
       "        vertical-align: top;\n",
       "    }\n",
       "\n",
       "    .dataframe thead th {\n",
       "        text-align: right;\n",
       "    }\n",
       "</style>\n",
       "<table border=\"1\" class=\"dataframe\">\n",
       "  <thead>\n",
       "    <tr style=\"text-align: right;\">\n",
       "      <th></th>\n",
       "      <th>VehicleNum</th>\n",
       "      <th>Stime</th>\n",
       "      <th>Lng</th>\n",
       "      <th>Lat</th>\n",
       "      <th>OpenStatus</th>\n",
       "      <th>Speed</th>\n",
       "      <th>Hour</th>\n",
       "    </tr>\n",
       "  </thead>\n",
       "  <tbody>\n",
       "    <tr>\n",
       "      <th>0</th>\n",
       "      <td>22271</td>\n",
       "      <td>22:54:04</td>\n",
       "      <td>114.167000</td>\n",
       "      <td>22.718399</td>\n",
       "      <td>0</td>\n",
       "      <td>0</td>\n",
       "      <td>22</td>\n",
       "    </tr>\n",
       "    <tr>\n",
       "      <th>1</th>\n",
       "      <td>22271</td>\n",
       "      <td>18:26:26</td>\n",
       "      <td>114.190598</td>\n",
       "      <td>22.647800</td>\n",
       "      <td>0</td>\n",
       "      <td>4</td>\n",
       "      <td>18</td>\n",
       "    </tr>\n",
       "    <tr>\n",
       "      <th>2</th>\n",
       "      <td>22271</td>\n",
       "      <td>18:35:18</td>\n",
       "      <td>114.201401</td>\n",
       "      <td>22.649700</td>\n",
       "      <td>0</td>\n",
       "      <td>0</td>\n",
       "      <td>18</td>\n",
       "    </tr>\n",
       "    <tr>\n",
       "      <th>3</th>\n",
       "      <td>22271</td>\n",
       "      <td>16:02:46</td>\n",
       "      <td>114.233498</td>\n",
       "      <td>22.725901</td>\n",
       "      <td>0</td>\n",
       "      <td>24</td>\n",
       "      <td>16</td>\n",
       "    </tr>\n",
       "    <tr>\n",
       "      <th>4</th>\n",
       "      <td>22271</td>\n",
       "      <td>21:41:17</td>\n",
       "      <td>114.233597</td>\n",
       "      <td>22.720900</td>\n",
       "      <td>0</td>\n",
       "      <td>19</td>\n",
       "      <td>21</td>\n",
       "    </tr>\n",
       "  </tbody>\n",
       "</table>\n",
       "</div>"
      ],
      "text/plain": [
       "   VehicleNum     Stime         Lng        Lat  OpenStatus  Speed Hour\n",
       "0       22271  22:54:04  114.167000  22.718399           0      0   22\n",
       "1       22271  18:26:26  114.190598  22.647800           0      4   18\n",
       "2       22271  18:35:18  114.201401  22.649700           0      0   18\n",
       "3       22271  16:02:46  114.233498  22.725901           0     24   16\n",
       "4       22271  21:41:17  114.233597  22.720900           0     19   21"
      ]
     },
     "execution_count": 6,
     "metadata": {},
     "output_type": "execute_result"
    }
   ],
   "source": [
    "# 计时\n",
    "import time\n",
    "timeflag = time.time()\n",
    "\n",
    "# 方法1：把时间当成字符串，用列自带的str方法，取前两位\n",
    "# data['Hour'] = data['Stime'].str.slice(0, 2)\n",
    "# 计算耗时\n",
    "# print('方法1', time.time() - timeflag, 's')\n",
    "##timeflag = time.time()\n",
    "##\n",
    "###方法2：把时间当成字符串，遍历取字符串前两位\n",
    "data['Hour'] = data['Stime'].apply(lambda r:r[:2])\n",
    "###计算耗时\n",
    "##print('方法2',time.time()-timeflag,'s')\n",
    "##timeflag = time.time()\n",
    "##\n",
    "###方法3：转换为时间格式，后提取小时（非常慢）\n",
    "##data['Hour'] = pd.to_datetime(data['Stime']).apply(lambda r:r.hour)\n",
    "###计算耗时\n",
    "##print('方法3',time.time()-timeflag,'s')\n",
    "##timeflag = time.time()\n",
    "data.head(5)"
   ]
  },
  {
   "cell_type": "code",
   "execution_count": 7,
   "id": "c5dd2a95-7446-4ec1-af66-678afd28e31c",
   "metadata": {},
   "outputs": [
    {
     "data": {
      "text/html": [
       "<div>\n",
       "<style scoped>\n",
       "    .dataframe tbody tr th:only-of-type {\n",
       "        vertical-align: middle;\n",
       "    }\n",
       "\n",
       "    .dataframe tbody tr th {\n",
       "        vertical-align: top;\n",
       "    }\n",
       "\n",
       "    .dataframe thead th {\n",
       "        text-align: right;\n",
       "    }\n",
       "</style>\n",
       "<table border=\"1\" class=\"dataframe\">\n",
       "  <thead>\n",
       "    <tr style=\"text-align: right;\">\n",
       "      <th></th>\n",
       "      <th>Stime</th>\n",
       "      <th>VehicleNum</th>\n",
       "    </tr>\n",
       "  </thead>\n",
       "  <tbody>\n",
       "    <tr>\n",
       "      <th>0</th>\n",
       "      <td>00</td>\n",
       "      <td>68745</td>\n",
       "    </tr>\n",
       "    <tr>\n",
       "      <th>1</th>\n",
       "      <td>01</td>\n",
       "      <td>63142</td>\n",
       "    </tr>\n",
       "    <tr>\n",
       "      <th>2</th>\n",
       "      <td>02</td>\n",
       "      <td>60680</td>\n",
       "    </tr>\n",
       "    <tr>\n",
       "      <th>3</th>\n",
       "      <td>03</td>\n",
       "      <td>57494</td>\n",
       "    </tr>\n",
       "    <tr>\n",
       "      <th>4</th>\n",
       "      <td>04</td>\n",
       "      <td>57060</td>\n",
       "    </tr>\n",
       "    <tr>\n",
       "      <th>5</th>\n",
       "      <td>05</td>\n",
       "      <td>59636</td>\n",
       "    </tr>\n",
       "    <tr>\n",
       "      <th>6</th>\n",
       "      <td>06</td>\n",
       "      <td>59742</td>\n",
       "    </tr>\n",
       "    <tr>\n",
       "      <th>7</th>\n",
       "      <td>07</td>\n",
       "      <td>63780</td>\n",
       "    </tr>\n",
       "    <tr>\n",
       "      <th>8</th>\n",
       "      <td>08</td>\n",
       "      <td>68224</td>\n",
       "    </tr>\n",
       "    <tr>\n",
       "      <th>9</th>\n",
       "      <td>09</td>\n",
       "      <td>64026</td>\n",
       "    </tr>\n",
       "    <tr>\n",
       "      <th>10</th>\n",
       "      <td>10</td>\n",
       "      <td>69309</td>\n",
       "    </tr>\n",
       "    <tr>\n",
       "      <th>11</th>\n",
       "      <td>11</td>\n",
       "      <td>71286</td>\n",
       "    </tr>\n",
       "    <tr>\n",
       "      <th>12</th>\n",
       "      <td>12</td>\n",
       "      <td>65876</td>\n",
       "    </tr>\n",
       "    <tr>\n",
       "      <th>13</th>\n",
       "      <td>13</td>\n",
       "      <td>69212</td>\n",
       "    </tr>\n",
       "    <tr>\n",
       "      <th>14</th>\n",
       "      <td>14</td>\n",
       "      <td>71510</td>\n",
       "    </tr>\n",
       "    <tr>\n",
       "      <th>15</th>\n",
       "      <td>15</td>\n",
       "      <td>70241</td>\n",
       "    </tr>\n",
       "    <tr>\n",
       "      <th>16</th>\n",
       "      <td>16</td>\n",
       "      <td>71798</td>\n",
       "    </tr>\n",
       "    <tr>\n",
       "      <th>17</th>\n",
       "      <td>17</td>\n",
       "      <td>70333</td>\n",
       "    </tr>\n",
       "    <tr>\n",
       "      <th>18</th>\n",
       "      <td>18</td>\n",
       "      <td>63514</td>\n",
       "    </tr>\n",
       "    <tr>\n",
       "      <th>19</th>\n",
       "      <td>19</td>\n",
       "      <td>74179</td>\n",
       "    </tr>\n",
       "    <tr>\n",
       "      <th>20</th>\n",
       "      <td>20</td>\n",
       "      <td>74938</td>\n",
       "    </tr>\n",
       "    <tr>\n",
       "      <th>21</th>\n",
       "      <td>21</td>\n",
       "      <td>70069</td>\n",
       "    </tr>\n",
       "    <tr>\n",
       "      <th>22</th>\n",
       "      <td>22</td>\n",
       "      <td>71503</td>\n",
       "    </tr>\n",
       "    <tr>\n",
       "      <th>23</th>\n",
       "      <td>23</td>\n",
       "      <td>65010</td>\n",
       "    </tr>\n",
       "  </tbody>\n",
       "</table>\n",
       "</div>"
      ],
      "text/plain": [
       "   Stime  VehicleNum\n",
       "0     00       68745\n",
       "1     01       63142\n",
       "2     02       60680\n",
       "3     03       57494\n",
       "4     04       57060\n",
       "5     05       59636\n",
       "6     06       59742\n",
       "7     07       63780\n",
       "8     08       68224\n",
       "9     09       64026\n",
       "10    10       69309\n",
       "11    11       71286\n",
       "12    12       65876\n",
       "13    13       69212\n",
       "14    14       71510\n",
       "15    15       70241\n",
       "16    16       71798\n",
       "17    17       70333\n",
       "18    18       63514\n",
       "19    19       74179\n",
       "20    20       74938\n",
       "21    21       70069\n",
       "22    22       71503\n",
       "23    23       65010"
      ]
     },
     "execution_count": 7,
     "metadata": {},
     "output_type": "execute_result"
    }
   ],
   "source": [
    "# 集计每小时的数据量：\n",
    "\n",
    "\n",
    "# 这个是对每一列都计数了，所以取其中一列出来，例如我这里取了['VehicleNum']\n",
    "hourcount = data.groupby(data['Stime'].apply(lambda r: r[:2]))['VehicleNum'].count().reset_index()\n",
    "hourcount"
   ]
  },
  {
   "cell_type": "code",
   "execution_count": 9,
   "id": "f0740c67-1883-48fe-b25a-e40f6eeabe05",
   "metadata": {},
   "outputs": [
    {
     "data": {
      "image/png": "[encoded data removed]",
      "text/plain": [
       "<Figure size 576x288 with 1 Axes>"
      ]
     },
     "metadata": {
      "needs_background": "light"
     },
     "output_type": "display_data"
    }
   ],
   "source": [
    "# ## 开始绘图\n",
    "\n",
    "# 第一部分：创建图\n",
    "import matplotlib.pyplot as plt\n",
    "\n",
    "# 创建一个图用plt.figure\n",
    "# 其中fig你可以想象是整张图,ax是图上的其中一个小画板（一个大图可以有多个小画板）\n",
    "# 而plt则是我们的画笔\n",
    "fig = plt.figure(1, (8, 4))\n",
    "ax = plt.subplot(111)\n",
    "# 告诉画笔，我们要在ax上画图\n",
    "plt.sca(ax)"
   ]
  },
  {
   "cell_type": "code",
   "execution_count": 11,
   "id": "94cec07d-dfe8-4660-b960-49267de578b0",
   "metadata": {},
   "outputs": [
    {
     "data": {
      "text/plain": [
       "[<matplotlib.lines.Line2D at 0x1c3ba54e3d0>]"
      ]
     },
     "execution_count": 11,
     "metadata": {},
     "output_type": "execute_result"
    },
    {
     "data": {
      "image/png": "[encoded data removed]",
      "text/plain": [
       "<Figure size 432x288 with 1 Axes>"
      ]
     },
     "metadata": {
      "needs_background": "light"
     },
     "output_type": "display_data"
    }
   ],
   "source": [
    "# 第二部分：绘制\n",
    "# 用plt.plot画折线\n",
    "plt.plot(hourcount['Stime'], hourcount['VehicleNum'])"
   ]
  },
  {
   "cell_type": "code",
   "execution_count": 15,
   "id": "a449a3b5-6b29-45b1-bbf8-705e51f5555a",
   "metadata": {},
   "outputs": [
    {
     "data": {
      "image/png": "[encoded data removed]",
      "text/plain": [
       "<Figure size 432x288 with 1 Axes>"
      ]
     },
     "metadata": {
      "needs_background": "light"
     },
     "output_type": "display_data"
    }
   ],
   "source": [
    "# 第三部分：调整\n",
    "\n",
    "# 折线图调整颜色加上数据点\n",
    "plt.plot(hourcount['Stime'], hourcount['VehicleNum'], 'k-', hourcount['Stime'], hourcount['VehicleNum'], 'k.')\n",
    "# 加上条形图\n",
    "plt.bar(hourcount['Stime'], hourcount['VehicleNum'], width=0.5)\n",
    "\n",
    "plt.title('Hourly data Volume')\n",
    "\n",
    "# 把y轴起点固定在0\n",
    "plt.ylim(50000, 80000)\n",
    "plt.ylabel('Data volumn')\n",
    "plt.xlabel('Hour')\n",
    "plt.show()"
   ]
  },
  {
   "cell_type": "code",
   "execution_count": 16,
   "id": "214f38d7-7e3c-4264-8c65-b124daa85a34",
   "metadata": {},
   "outputs": [],
   "source": [
    "# 订单的持续时间箱型图\n",
    "\n",
    "TaxiOD = TaxiOD[-TaxiOD['Etime'].isnull()]\n",
    "\n",
    "# 计时\n",
    "timeflag = time.time()\n",
    "# 方法1：直接硬算\n",
    "TaxiOD['order_time'] = TaxiOD['Etime'].str.slice(0, 2).astype('int') * 3600 + TaxiOD['Etime'].str.slice(3, 5).astype(\n",
    "    'int') * 60 + TaxiOD['Etime'].str.slice(6, 8).astype('int') - TaxiOD['Stime'].str.slice(0, 2).astype('int') * 3600 - \\\n",
    "                       TaxiOD['Stime'].str.slice(3, 5).astype('int') * 60 - TaxiOD['Stime'].str.slice(6, 8).astype(\n",
    "    'int')"
   ]
  },
  {
   "cell_type": "code",
   "execution_count": 17,
   "id": "2dd8fb29-231c-4810-8746-21479d265229",
   "metadata": {},
   "outputs": [
    {
     "data": {
      "image/png": "[encoded data removed]",
      "text/plain": [
       "<Figure size 432x288 with 1 Axes>"
      ]
     },
     "metadata": {
      "needs_background": "light"
     },
     "output_type": "display_data"
    }
   ],
   "source": [
    "# 首先用plt.boxplot绘制全部数据分布的箱型图\n",
    "\n",
    "plt.boxplot(TaxiOD['order_time'] / 60)\n",
    "\n",
    "plt.ylabel('minutes')\n",
    "plt.xlabel('order time')\n",
    "plt.ylim(0, 60)\n",
    "plt.show()"
   ]
  },
  {
   "cell_type": "code",
   "execution_count": 18,
   "id": "a7f496bc-4044-4d88-aa04-228f585e8232",
   "metadata": {},
   "outputs": [
    {
     "data": {
      "image/png": "[encoded data removed]",
      "text/plain": [
       "<Figure size 432x288 with 1 Axes>"
      ]
     },
     "metadata": {
      "needs_background": "light"
     },
     "output_type": "display_data"
    }
   ],
   "source": [
    "# 这里，我想要制以每小时分组的订单时间分布\n",
    "\n",
    "\n",
    "TaxiOD['Hour'] = TaxiOD['Stime'].str.slice(0, 2)\n",
    "\n",
    "# 多分组的时候，plt的boxplot需要这样传入参数:\n",
    "# >plt.boxplot([数据1,数据2,...])\n",
    "\n",
    "\n",
    "# 整理数据\n",
    "hour = TaxiOD['Hour'].drop_duplicates().sort_values()\n",
    "datas = []\n",
    "for i in range(len(hour)):\n",
    "    datas.append(TaxiOD[TaxiOD['Hour'] == hour.iloc[i]]['order_time'] / 60)\n",
    "# 绘制\n",
    "plt.boxplot(datas)\n",
    "# 更改x轴ticks的文字\n",
    "plt.xticks(range(1, len(hour) + 1), list(hour))\n",
    "\n",
    "plt.ylabel('Order time(minutes)')\n",
    "plt.xlabel('Order start time')\n",
    "plt.ylim(0, 60)\n",
    "\n",
    "plt.show()"
   ]
  }
 ],
 "metadata": {
  "kernelspec": {
   "display_name": "Python 3 (ipykernel)",
   "language": "python",
   "name": "python3"
  },
  "language_info": {
   "codemirror_mode": {
    "name": "ipython",
    "version": 3
   },
   "file_extension": ".py",
   "mimetype": "text/x-python",
   "name": "python",
   "nbconvert_exporter": "python",
   "pygments_lexer": "ipython3",
   "version": "3.9.12"
  }
 },
 "nbformat": 4,
 "nbformat_minor": 5
}
