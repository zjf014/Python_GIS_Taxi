{
 "cells": [
  {
   "cell_type": "markdown",
   "id": "bbf1f08b-57ea-42f3-a401-b1b190610c84",
   "metadata": {
    "tags": []
   },
   "source": [
    "在这个教程中，你将会学到如何使用python的pandas包对出租车GPS数据进行数据清洗，识别出行OD\n",
    "\n",
    "出租车原始GPS数据(在data-sample文件夹下，原始数据集的抽样500辆车的数据)"
   ]
  },
  {
   "cell_type": "code",
   "execution_count": 2,
   "id": "ec05fb11-06ea-4d7d-abd6-5966b8d8e2e6",
   "metadata": {},
   "outputs": [],
   "source": [
    "import pandas as pd"
   ]
  },
  {
   "cell_type": "code",
   "execution_count": 17,
   "id": "76cf761a-26cd-4b33-845e-f282a005d06a",
   "metadata": {},
   "outputs": [],
   "source": [
    "data = pd.read_csv(r'data-sample/TaxiData-Sample', header=None)  # 读取数据"
   ]
  },
  {
   "cell_type": "markdown",
   "id": "2e573eb4-129a-4f48-93ae-b046e7cfc376",
   "metadata": {
    "tags": []
   },
   "source": [
    "数据的格式：\n",
    "\n",
    "VehicleNum —— 车牌  \n",
    "Stime —— 时间  \n",
    "Lng —— 经度  \n",
    "Lat —— 纬度  \n",
    "OpenStatus —— 是否有乘客(0没乘客，1有乘客)  \n",
    "Speed —— 速度  "
   ]
  },
  {
   "cell_type": "code",
   "execution_count": 18,
   "id": "cab7ca4e-0c27-460c-907b-9a93b0e0f8f8",
   "metadata": {},
   "outputs": [],
   "source": [
    "data.columns = ['VehicleNum', 'Stime', 'Lng', 'Lat', 'OpenStatus', 'Speed']  # 给数据命名列"
   ]
  },
  {
   "cell_type": "code",
   "execution_count": 19,
   "id": "0cc4e881-4e66-4a3b-9436-42e003702c4c",
   "metadata": {},
   "outputs": [
    {
     "data": {
      "text/html": [
       "<div>\n",
       "<style scoped>\n",
       "    .dataframe tbody tr th:only-of-type {\n",
       "        vertical-align: middle;\n",
       "    }\n",
       "\n",
       "    .dataframe tbody tr th {\n",
       "        vertical-align: top;\n",
       "    }\n",
       "\n",
       "    .dataframe thead th {\n",
       "        text-align: right;\n",
       "    }\n",
       "</style>\n",
       "<table border=\"1\" class=\"dataframe\">\n",
       "  <thead>\n",
       "    <tr style=\"text-align: right;\">\n",
       "      <th></th>\n",
       "      <th>VehicleNum</th>\n",
       "      <th>Stime</th>\n",
       "      <th>Lng</th>\n",
       "      <th>Lat</th>\n",
       "      <th>OpenStatus</th>\n",
       "      <th>Speed</th>\n",
       "    </tr>\n",
       "  </thead>\n",
       "  <tbody>\n",
       "    <tr>\n",
       "      <th>0</th>\n",
       "      <td>22271</td>\n",
       "      <td>22:54:04</td>\n",
       "      <td>114.167000</td>\n",
       "      <td>22.718399</td>\n",
       "      <td>0</td>\n",
       "      <td>0</td>\n",
       "    </tr>\n",
       "    <tr>\n",
       "      <th>1</th>\n",
       "      <td>22271</td>\n",
       "      <td>18:26:26</td>\n",
       "      <td>114.190598</td>\n",
       "      <td>22.647800</td>\n",
       "      <td>0</td>\n",
       "      <td>4</td>\n",
       "    </tr>\n",
       "    <tr>\n",
       "      <th>2</th>\n",
       "      <td>22271</td>\n",
       "      <td>18:35:18</td>\n",
       "      <td>114.201401</td>\n",
       "      <td>22.649700</td>\n",
       "      <td>0</td>\n",
       "      <td>0</td>\n",
       "    </tr>\n",
       "    <tr>\n",
       "      <th>3</th>\n",
       "      <td>22271</td>\n",
       "      <td>16:02:46</td>\n",
       "      <td>114.233498</td>\n",
       "      <td>22.725901</td>\n",
       "      <td>0</td>\n",
       "      <td>24</td>\n",
       "    </tr>\n",
       "    <tr>\n",
       "      <th>4</th>\n",
       "      <td>22271</td>\n",
       "      <td>21:41:17</td>\n",
       "      <td>114.233597</td>\n",
       "      <td>22.720900</td>\n",
       "      <td>0</td>\n",
       "      <td>19</td>\n",
       "    </tr>\n",
       "  </tbody>\n",
       "</table>\n",
       "</div>"
      ],
      "text/plain": [
       "   VehicleNum     Stime         Lng        Lat  OpenStatus  Speed\n",
       "0       22271  22:54:04  114.167000  22.718399           0      0\n",
       "1       22271  18:26:26  114.190598  22.647800           0      4\n",
       "2       22271  18:35:18  114.201401  22.649700           0      0\n",
       "3       22271  16:02:46  114.233498  22.725901           0     24\n",
       "4       22271  21:41:17  114.233597  22.720900           0     19"
      ]
     },
     "execution_count": 19,
     "metadata": {},
     "output_type": "execute_result"
    }
   ],
   "source": [
    "# 显示数据的前5行\n",
    "data.head(5)"
   ]
  },
  {
   "cell_type": "markdown",
   "id": "1598ea7a-a0e2-4be7-8236-4ac933da0b86",
   "metadata": {},
   "source": [
    "# 基础的数据操作\n",
    "## DataFrame和Series\n",
    "\n",
    "- 当我们读一个数据的时候，我们读进来的就是DataFrame格式的数据表，而一个DataFrame中的每一列，则为一个Series，也就是说，DataFrame由多个Series组成"
   ]
  },
  {
   "cell_type": "code",
   "execution_count": 6,
   "id": "538c8ba7-7a5e-4297-b4ac-aa81429c7e46",
   "metadata": {},
   "outputs": [
    {
     "data": {
      "text/plain": [
       "pandas.core.frame.DataFrame"
      ]
     },
     "execution_count": 6,
     "metadata": {},
     "output_type": "execute_result"
    }
   ],
   "source": [
    "type(data) "
   ]
  },
  {
   "cell_type": "markdown",
   "id": "89f70ef7-9ae0-452e-accd-f2deec57fde7",
   "metadata": {},
   "source": [
    "- 如果我们想取DataFrame的某一列，想得到的是Series，那么直接用以下代码"
   ]
  },
  {
   "cell_type": "code",
   "execution_count": 8,
   "id": "6983de63-0a17-4cab-ae66-3ecdc971019a",
   "metadata": {},
   "outputs": [
    {
     "data": {
      "text/plain": [
       "0          114.167000\n",
       "1          114.190598\n",
       "2          114.201401\n",
       "3          114.233498\n",
       "4          114.233597\n",
       "              ...    \n",
       "1601302    114.160149\n",
       "1601303    114.164551\n",
       "1601304    114.168015\n",
       "1601305    114.168015\n",
       "1601306    114.170647\n",
       "Name: Lng, Length: 1601307, dtype: float64"
      ]
     },
     "execution_count": 8,
     "metadata": {},
     "output_type": "execute_result"
    }
   ],
   "source": [
    "data['Lng']"
   ]
  },
  {
   "cell_type": "markdown",
   "id": "cb2d2e48-6b6e-40eb-9eca-4928ed4edc05",
   "metadata": {},
   "source": [
    "- 如果我们想取DataFrame的某一列或者某几列，想得到的是DataFrame，那么直接用以下代码"
   ]
  },
  {
   "cell_type": "code",
   "execution_count": 9,
   "id": "88342305-7486-445b-b9a5-b612dcfa31b5",
   "metadata": {},
   "outputs": [
    {
     "data": {
      "text/html": [
       "<div>\n",
       "<style scoped>\n",
       "    .dataframe tbody tr th:only-of-type {\n",
       "        vertical-align: middle;\n",
       "    }\n",
       "\n",
       "    .dataframe tbody tr th {\n",
       "        vertical-align: top;\n",
       "    }\n",
       "\n",
       "    .dataframe thead th {\n",
       "        text-align: right;\n",
       "    }\n",
       "</style>\n",
       "<table border=\"1\" class=\"dataframe\">\n",
       "  <thead>\n",
       "    <tr style=\"text-align: right;\">\n",
       "      <th></th>\n",
       "      <th>Lng</th>\n",
       "      <th>Lat</th>\n",
       "    </tr>\n",
       "  </thead>\n",
       "  <tbody>\n",
       "    <tr>\n",
       "      <th>0</th>\n",
       "      <td>114.167000</td>\n",
       "      <td>22.718399</td>\n",
       "    </tr>\n",
       "    <tr>\n",
       "      <th>1</th>\n",
       "      <td>114.190598</td>\n",
       "      <td>22.647800</td>\n",
       "    </tr>\n",
       "    <tr>\n",
       "      <th>2</th>\n",
       "      <td>114.201401</td>\n",
       "      <td>22.649700</td>\n",
       "    </tr>\n",
       "    <tr>\n",
       "      <th>3</th>\n",
       "      <td>114.233498</td>\n",
       "      <td>22.725901</td>\n",
       "    </tr>\n",
       "    <tr>\n",
       "      <th>4</th>\n",
       "      <td>114.233597</td>\n",
       "      <td>22.720900</td>\n",
       "    </tr>\n",
       "    <tr>\n",
       "      <th>...</th>\n",
       "      <td>...</td>\n",
       "      <td>...</td>\n",
       "    </tr>\n",
       "    <tr>\n",
       "      <th>1601302</th>\n",
       "      <td>114.160149</td>\n",
       "      <td>22.606934</td>\n",
       "    </tr>\n",
       "    <tr>\n",
       "      <th>1601303</th>\n",
       "      <td>114.164551</td>\n",
       "      <td>22.605118</td>\n",
       "    </tr>\n",
       "    <tr>\n",
       "      <th>1601304</th>\n",
       "      <td>114.168015</td>\n",
       "      <td>22.606083</td>\n",
       "    </tr>\n",
       "    <tr>\n",
       "      <th>1601305</th>\n",
       "      <td>114.168015</td>\n",
       "      <td>22.606083</td>\n",
       "    </tr>\n",
       "    <tr>\n",
       "      <th>1601306</th>\n",
       "      <td>114.170647</td>\n",
       "      <td>22.604383</td>\n",
       "    </tr>\n",
       "  </tbody>\n",
       "</table>\n",
       "<p>1601307 rows × 2 columns</p>\n",
       "</div>"
      ],
      "text/plain": [
       "                Lng        Lat\n",
       "0        114.167000  22.718399\n",
       "1        114.190598  22.647800\n",
       "2        114.201401  22.649700\n",
       "3        114.233498  22.725901\n",
       "4        114.233597  22.720900\n",
       "...             ...        ...\n",
       "1601302  114.160149  22.606934\n",
       "1601303  114.164551  22.605118\n",
       "1601304  114.168015  22.606083\n",
       "1601305  114.168015  22.606083\n",
       "1601306  114.170647  22.604383\n",
       "\n",
       "[1601307 rows x 2 columns]"
      ]
     },
     "execution_count": 9,
     "metadata": {},
     "output_type": "execute_result"
    }
   ],
   "source": [
    "data[['Lng', 'Lat']]"
   ]
  },
  {
   "cell_type": "markdown",
   "id": "5d245553-eac3-409e-9790-c8b4f9b36027",
   "metadata": {},
   "source": [
    "- 得到车牌照为22271的所有数据"
   ]
  },
  {
   "cell_type": "code",
   "execution_count": 13,
   "id": "7f14a07d-a44b-4a9b-ab76-acab3867adba",
   "metadata": {},
   "outputs": [
    {
     "data": {
      "text/plain": [
       "0           True\n",
       "1           True\n",
       "2           True\n",
       "3           True\n",
       "4           True\n",
       "           ...  \n",
       "1601302    False\n",
       "1601303    False\n",
       "1601304    False\n",
       "1601305    False\n",
       "1601306    False\n",
       "Name: VehicleNum, Length: 1601307, dtype: bool"
      ]
     },
     "execution_count": 13,
     "metadata": {},
     "output_type": "execute_result"
    }
   ],
   "source": [
    "data['VehicleNum'] == 22271"
   ]
  },
  {
   "cell_type": "code",
   "execution_count": 12,
   "id": "721452ba-48d7-47ce-9b2c-cbf33933538c",
   "metadata": {},
   "outputs": [
    {
     "data": {
      "text/html": [
       "<div>\n",
       "<style scoped>\n",
       "    .dataframe tbody tr th:only-of-type {\n",
       "        vertical-align: middle;\n",
       "    }\n",
       "\n",
       "    .dataframe tbody tr th {\n",
       "        vertical-align: top;\n",
       "    }\n",
       "\n",
       "    .dataframe thead th {\n",
       "        text-align: right;\n",
       "    }\n",
       "</style>\n",
       "<table border=\"1\" class=\"dataframe\">\n",
       "  <thead>\n",
       "    <tr style=\"text-align: right;\">\n",
       "      <th></th>\n",
       "      <th>VehicleNum</th>\n",
       "      <th>Stime</th>\n",
       "      <th>Lng</th>\n",
       "      <th>Lat</th>\n",
       "      <th>OpenStatus</th>\n",
       "      <th>Speed</th>\n",
       "    </tr>\n",
       "  </thead>\n",
       "  <tbody>\n",
       "    <tr>\n",
       "      <th>0</th>\n",
       "      <td>22271</td>\n",
       "      <td>22:54:04</td>\n",
       "      <td>114.167000</td>\n",
       "      <td>22.718399</td>\n",
       "      <td>0</td>\n",
       "      <td>0</td>\n",
       "    </tr>\n",
       "    <tr>\n",
       "      <th>1</th>\n",
       "      <td>22271</td>\n",
       "      <td>18:26:26</td>\n",
       "      <td>114.190598</td>\n",
       "      <td>22.647800</td>\n",
       "      <td>0</td>\n",
       "      <td>4</td>\n",
       "    </tr>\n",
       "    <tr>\n",
       "      <th>2</th>\n",
       "      <td>22271</td>\n",
       "      <td>18:35:18</td>\n",
       "      <td>114.201401</td>\n",
       "      <td>22.649700</td>\n",
       "      <td>0</td>\n",
       "      <td>0</td>\n",
       "    </tr>\n",
       "    <tr>\n",
       "      <th>3</th>\n",
       "      <td>22271</td>\n",
       "      <td>16:02:46</td>\n",
       "      <td>114.233498</td>\n",
       "      <td>22.725901</td>\n",
       "      <td>0</td>\n",
       "      <td>24</td>\n",
       "    </tr>\n",
       "    <tr>\n",
       "      <th>4</th>\n",
       "      <td>22271</td>\n",
       "      <td>21:41:17</td>\n",
       "      <td>114.233597</td>\n",
       "      <td>22.720900</td>\n",
       "      <td>0</td>\n",
       "      <td>19</td>\n",
       "    </tr>\n",
       "    <tr>\n",
       "      <th>...</th>\n",
       "      <td>...</td>\n",
       "      <td>...</td>\n",
       "      <td>...</td>\n",
       "      <td>...</td>\n",
       "      <td>...</td>\n",
       "      <td>...</td>\n",
       "    </tr>\n",
       "    <tr>\n",
       "      <th>1432</th>\n",
       "      <td>22271</td>\n",
       "      <td>11:31:09</td>\n",
       "      <td>114.279404</td>\n",
       "      <td>22.739000</td>\n",
       "      <td>0</td>\n",
       "      <td>0</td>\n",
       "    </tr>\n",
       "    <tr>\n",
       "      <th>1433</th>\n",
       "      <td>22271</td>\n",
       "      <td>11:33:09</td>\n",
       "      <td>114.279404</td>\n",
       "      <td>22.739000</td>\n",
       "      <td>0</td>\n",
       "      <td>0</td>\n",
       "    </tr>\n",
       "    <tr>\n",
       "      <th>1434</th>\n",
       "      <td>22271</td>\n",
       "      <td>10:43:56</td>\n",
       "      <td>114.279503</td>\n",
       "      <td>22.739000</td>\n",
       "      <td>0</td>\n",
       "      <td>0</td>\n",
       "    </tr>\n",
       "    <tr>\n",
       "      <th>1435</th>\n",
       "      <td>22271</td>\n",
       "      <td>10:51:48</td>\n",
       "      <td>114.279503</td>\n",
       "      <td>22.739201</td>\n",
       "      <td>0</td>\n",
       "      <td>0</td>\n",
       "    </tr>\n",
       "    <tr>\n",
       "      <th>1436</th>\n",
       "      <td>22271</td>\n",
       "      <td>00:07:41</td>\n",
       "      <td>114.282700</td>\n",
       "      <td>22.727800</td>\n",
       "      <td>0</td>\n",
       "      <td>23</td>\n",
       "    </tr>\n",
       "  </tbody>\n",
       "</table>\n",
       "<p>1437 rows × 6 columns</p>\n",
       "</div>"
      ],
      "text/plain": [
       "      VehicleNum     Stime         Lng        Lat  OpenStatus  Speed\n",
       "0          22271  22:54:04  114.167000  22.718399           0      0\n",
       "1          22271  18:26:26  114.190598  22.647800           0      4\n",
       "2          22271  18:35:18  114.201401  22.649700           0      0\n",
       "3          22271  16:02:46  114.233498  22.725901           0     24\n",
       "4          22271  21:41:17  114.233597  22.720900           0     19\n",
       "...          ...       ...         ...        ...         ...    ...\n",
       "1432       22271  11:31:09  114.279404  22.739000           0      0\n",
       "1433       22271  11:33:09  114.279404  22.739000           0      0\n",
       "1434       22271  10:43:56  114.279503  22.739000           0      0\n",
       "1435       22271  10:51:48  114.279503  22.739201           0      0\n",
       "1436       22271  00:07:41  114.282700  22.727800           0     23\n",
       "\n",
       "[1437 rows x 6 columns]"
      ]
     },
     "execution_count": 12,
     "metadata": {},
     "output_type": "execute_result"
    }
   ],
   "source": [
    "data[data['VehicleNum'] == 22271]"
   ]
  },
  {
   "cell_type": "markdown",
   "id": "f4d7a56e-3170-49ce-8270-4f114f992afd",
   "metadata": {},
   "source": [
    "- 删除车牌照为22271的所有数据"
   ]
  },
  {
   "cell_type": "code",
   "execution_count": 16,
   "id": "b3204687-8c74-4d63-bddb-1e6d828c3cd2",
   "metadata": {},
   "outputs": [
    {
     "data": {
      "text/html": [
       "<div>\n",
       "<style scoped>\n",
       "    .dataframe tbody tr th:only-of-type {\n",
       "        vertical-align: middle;\n",
       "    }\n",
       "\n",
       "    .dataframe tbody tr th {\n",
       "        vertical-align: top;\n",
       "    }\n",
       "\n",
       "    .dataframe thead th {\n",
       "        text-align: right;\n",
       "    }\n",
       "</style>\n",
       "<table border=\"1\" class=\"dataframe\">\n",
       "  <thead>\n",
       "    <tr style=\"text-align: right;\">\n",
       "      <th></th>\n",
       "      <th>VehicleNum</th>\n",
       "      <th>Stime</th>\n",
       "      <th>Lng</th>\n",
       "      <th>Lat</th>\n",
       "      <th>OpenStatus</th>\n",
       "      <th>Speed</th>\n",
       "    </tr>\n",
       "  </thead>\n",
       "  <tbody>\n",
       "    <tr>\n",
       "      <th>1437</th>\n",
       "      <td>35807</td>\n",
       "      <td>01:53:46</td>\n",
       "      <td>113.809898</td>\n",
       "      <td>22.626801</td>\n",
       "      <td>0</td>\n",
       "      <td>0</td>\n",
       "    </tr>\n",
       "    <tr>\n",
       "      <th>1438</th>\n",
       "      <td>35807</td>\n",
       "      <td>01:43:46</td>\n",
       "      <td>113.813301</td>\n",
       "      <td>22.623600</td>\n",
       "      <td>0</td>\n",
       "      <td>0</td>\n",
       "    </tr>\n",
       "    <tr>\n",
       "      <th>1439</th>\n",
       "      <td>35807</td>\n",
       "      <td>01:14:15</td>\n",
       "      <td>113.847000</td>\n",
       "      <td>22.594700</td>\n",
       "      <td>0</td>\n",
       "      <td>41</td>\n",
       "    </tr>\n",
       "    <tr>\n",
       "      <th>1440</th>\n",
       "      <td>35807</td>\n",
       "      <td>02:01:41</td>\n",
       "      <td>113.852501</td>\n",
       "      <td>22.625700</td>\n",
       "      <td>0</td>\n",
       "      <td>22</td>\n",
       "    </tr>\n",
       "    <tr>\n",
       "      <th>1441</th>\n",
       "      <td>35807</td>\n",
       "      <td>01:01:59</td>\n",
       "      <td>113.897003</td>\n",
       "      <td>22.551901</td>\n",
       "      <td>0</td>\n",
       "      <td>42</td>\n",
       "    </tr>\n",
       "    <tr>\n",
       "      <th>...</th>\n",
       "      <td>...</td>\n",
       "      <td>...</td>\n",
       "      <td>...</td>\n",
       "      <td>...</td>\n",
       "      <td>...</td>\n",
       "      <td>...</td>\n",
       "    </tr>\n",
       "    <tr>\n",
       "      <th>1601302</th>\n",
       "      <td>23873</td>\n",
       "      <td>20:20:03</td>\n",
       "      <td>114.160149</td>\n",
       "      <td>22.606934</td>\n",
       "      <td>0</td>\n",
       "      <td>0</td>\n",
       "    </tr>\n",
       "    <tr>\n",
       "      <th>1601303</th>\n",
       "      <td>23873</td>\n",
       "      <td>20:15:13</td>\n",
       "      <td>114.164551</td>\n",
       "      <td>22.605118</td>\n",
       "      <td>1</td>\n",
       "      <td>48</td>\n",
       "    </tr>\n",
       "    <tr>\n",
       "      <th>1601304</th>\n",
       "      <td>23873</td>\n",
       "      <td>20:16:23</td>\n",
       "      <td>114.168015</td>\n",
       "      <td>22.606083</td>\n",
       "      <td>0</td>\n",
       "      <td>0</td>\n",
       "    </tr>\n",
       "    <tr>\n",
       "      <th>1601305</th>\n",
       "      <td>23873</td>\n",
       "      <td>20:16:43</td>\n",
       "      <td>114.168015</td>\n",
       "      <td>22.606083</td>\n",
       "      <td>0</td>\n",
       "      <td>0</td>\n",
       "    </tr>\n",
       "    <tr>\n",
       "      <th>1601306</th>\n",
       "      <td>23873</td>\n",
       "      <td>20:26:39</td>\n",
       "      <td>114.170647</td>\n",
       "      <td>22.604383</td>\n",
       "      <td>0</td>\n",
       "      <td>0</td>\n",
       "    </tr>\n",
       "  </tbody>\n",
       "</table>\n",
       "<p>1599870 rows × 6 columns</p>\n",
       "</div>"
      ],
      "text/plain": [
       "         VehicleNum     Stime         Lng        Lat  OpenStatus  Speed\n",
       "1437          35807  01:53:46  113.809898  22.626801           0      0\n",
       "1438          35807  01:43:46  113.813301  22.623600           0      0\n",
       "1439          35807  01:14:15  113.847000  22.594700           0     41\n",
       "1440          35807  02:01:41  113.852501  22.625700           0     22\n",
       "1441          35807  01:01:59  113.897003  22.551901           0     42\n",
       "...             ...       ...         ...        ...         ...    ...\n",
       "1601302       23873  20:20:03  114.160149  22.606934           0      0\n",
       "1601303       23873  20:15:13  114.164551  22.605118           1     48\n",
       "1601304       23873  20:16:23  114.168015  22.606083           0      0\n",
       "1601305       23873  20:16:43  114.168015  22.606083           0      0\n",
       "1601306       23873  20:26:39  114.170647  22.604383           0      0\n",
       "\n",
       "[1599870 rows x 6 columns]"
      ]
     },
     "execution_count": 16,
     "metadata": {},
     "output_type": "execute_result"
    }
   ],
   "source": [
    "data[-(data['VehicleNum'] == 22271)]"
   ]
  },
  {
   "cell_type": "markdown",
   "id": "b6a6c1c0-c2e6-4d71-8545-4fb2e5c9715b",
   "metadata": {},
   "source": [
    "- 获取列'Stime',注意，**此操作不会影响到data，你在操作后必须将得到的表重新赋值给data才有影响**"
   ]
  },
  {
   "cell_type": "code",
   "execution_count": 20,
   "id": "6594831a-8dca-4289-a50a-88d8cb86b390",
   "metadata": {},
   "outputs": [
    {
     "data": {
      "text/html": [
       "<div>\n",
       "<style scoped>\n",
       "    .dataframe tbody tr th:only-of-type {\n",
       "        vertical-align: middle;\n",
       "    }\n",
       "\n",
       "    .dataframe tbody tr th {\n",
       "        vertical-align: top;\n",
       "    }\n",
       "\n",
       "    .dataframe thead th {\n",
       "        text-align: right;\n",
       "    }\n",
       "</style>\n",
       "<table border=\"1\" class=\"dataframe\">\n",
       "  <thead>\n",
       "    <tr style=\"text-align: right;\">\n",
       "      <th></th>\n",
       "      <th>Stime</th>\n",
       "    </tr>\n",
       "  </thead>\n",
       "  <tbody>\n",
       "    <tr>\n",
       "      <th>0</th>\n",
       "      <td>22:54:04</td>\n",
       "    </tr>\n",
       "    <tr>\n",
       "      <th>1</th>\n",
       "      <td>18:26:26</td>\n",
       "    </tr>\n",
       "    <tr>\n",
       "      <th>2</th>\n",
       "      <td>18:35:18</td>\n",
       "    </tr>\n",
       "    <tr>\n",
       "      <th>3</th>\n",
       "      <td>16:02:46</td>\n",
       "    </tr>\n",
       "    <tr>\n",
       "      <th>4</th>\n",
       "      <td>21:41:17</td>\n",
       "    </tr>\n",
       "  </tbody>\n",
       "</table>\n",
       "</div>"
      ],
      "text/plain": [
       "      Stime\n",
       "0  22:54:04\n",
       "1  18:26:26\n",
       "2  18:35:18\n",
       "3  16:02:46\n",
       "4  21:41:17"
      ]
     },
     "execution_count": 20,
     "metadata": {},
     "output_type": "execute_result"
    }
   ],
   "source": [
    "data[['Stime']].head(5)"
   ]
  },
  {
   "cell_type": "markdown",
   "id": "ca6ba02a-c462-4786-b601-fc4906e41698",
   "metadata": {},
   "source": [
    "- 定义列'Speed1'为Speed列的两倍,注意，**此操作会影响到data**"
   ]
  },
  {
   "cell_type": "code",
   "execution_count": 22,
   "id": "bc8f3242-20cd-4dd8-9456-2be71c98a99e",
   "metadata": {},
   "outputs": [
    {
     "data": {
      "text/html": [
       "<div>\n",
       "<style scoped>\n",
       "    .dataframe tbody tr th:only-of-type {\n",
       "        vertical-align: middle;\n",
       "    }\n",
       "\n",
       "    .dataframe tbody tr th {\n",
       "        vertical-align: top;\n",
       "    }\n",
       "\n",
       "    .dataframe thead th {\n",
       "        text-align: right;\n",
       "    }\n",
       "</style>\n",
       "<table border=\"1\" class=\"dataframe\">\n",
       "  <thead>\n",
       "    <tr style=\"text-align: right;\">\n",
       "      <th></th>\n",
       "      <th>VehicleNum</th>\n",
       "      <th>Stime</th>\n",
       "      <th>Lng</th>\n",
       "      <th>Lat</th>\n",
       "      <th>OpenStatus</th>\n",
       "      <th>Speed</th>\n",
       "      <th>Speed1</th>\n",
       "    </tr>\n",
       "  </thead>\n",
       "  <tbody>\n",
       "    <tr>\n",
       "      <th>0</th>\n",
       "      <td>22271</td>\n",
       "      <td>22:54:04</td>\n",
       "      <td>114.167000</td>\n",
       "      <td>22.718399</td>\n",
       "      <td>0</td>\n",
       "      <td>0</td>\n",
       "      <td>0</td>\n",
       "    </tr>\n",
       "    <tr>\n",
       "      <th>1</th>\n",
       "      <td>22271</td>\n",
       "      <td>18:26:26</td>\n",
       "      <td>114.190598</td>\n",
       "      <td>22.647800</td>\n",
       "      <td>0</td>\n",
       "      <td>4</td>\n",
       "      <td>8</td>\n",
       "    </tr>\n",
       "    <tr>\n",
       "      <th>2</th>\n",
       "      <td>22271</td>\n",
       "      <td>18:35:18</td>\n",
       "      <td>114.201401</td>\n",
       "      <td>22.649700</td>\n",
       "      <td>0</td>\n",
       "      <td>0</td>\n",
       "      <td>0</td>\n",
       "    </tr>\n",
       "    <tr>\n",
       "      <th>3</th>\n",
       "      <td>22271</td>\n",
       "      <td>16:02:46</td>\n",
       "      <td>114.233498</td>\n",
       "      <td>22.725901</td>\n",
       "      <td>0</td>\n",
       "      <td>24</td>\n",
       "      <td>48</td>\n",
       "    </tr>\n",
       "    <tr>\n",
       "      <th>4</th>\n",
       "      <td>22271</td>\n",
       "      <td>21:41:17</td>\n",
       "      <td>114.233597</td>\n",
       "      <td>22.720900</td>\n",
       "      <td>0</td>\n",
       "      <td>19</td>\n",
       "      <td>38</td>\n",
       "    </tr>\n",
       "  </tbody>\n",
       "</table>\n",
       "</div>"
      ],
      "text/plain": [
       "   VehicleNum     Stime         Lng        Lat  OpenStatus  Speed  Speed1\n",
       "0       22271  22:54:04  114.167000  22.718399           0      0       0\n",
       "1       22271  18:26:26  114.190598  22.647800           0      4       8\n",
       "2       22271  18:35:18  114.201401  22.649700           0      0       0\n",
       "3       22271  16:02:46  114.233498  22.725901           0     24      48\n",
       "4       22271  21:41:17  114.233597  22.720900           0     19      38"
      ]
     },
     "execution_count": 22,
     "metadata": {},
     "output_type": "execute_result"
    }
   ],
   "source": [
    "data['Speed1'] = data['Speed'] * 2\n",
    "# 或者\n",
    "# data.loc[:, 'Speed1'] = data['Speed'] * 2\n",
    "\n",
    "data.head(5)"
   ]
  },
  {
   "cell_type": "markdown",
   "id": "e9a6cb46-56d6-4e11-9b34-37ab0346264b",
   "metadata": {},
   "source": [
    "- 删除列'Speed1',axis=1表示对列进行删除。注意，**将得到的表重新赋值给data才有影响**"
   ]
  },
  {
   "cell_type": "code",
   "execution_count": 23,
   "id": "d01c1b41-c9e4-461e-b26d-892065ec1430",
   "metadata": {},
   "outputs": [
    {
     "data": {
      "text/html": [
       "<div>\n",
       "<style scoped>\n",
       "    .dataframe tbody tr th:only-of-type {\n",
       "        vertical-align: middle;\n",
       "    }\n",
       "\n",
       "    .dataframe tbody tr th {\n",
       "        vertical-align: top;\n",
       "    }\n",
       "\n",
       "    .dataframe thead th {\n",
       "        text-align: right;\n",
       "    }\n",
       "</style>\n",
       "<table border=\"1\" class=\"dataframe\">\n",
       "  <thead>\n",
       "    <tr style=\"text-align: right;\">\n",
       "      <th></th>\n",
       "      <th>VehicleNum</th>\n",
       "      <th>Stime</th>\n",
       "      <th>Lng</th>\n",
       "      <th>Lat</th>\n",
       "      <th>OpenStatus</th>\n",
       "      <th>Speed</th>\n",
       "    </tr>\n",
       "  </thead>\n",
       "  <tbody>\n",
       "    <tr>\n",
       "      <th>0</th>\n",
       "      <td>22271</td>\n",
       "      <td>22:54:04</td>\n",
       "      <td>114.167000</td>\n",
       "      <td>22.718399</td>\n",
       "      <td>0</td>\n",
       "      <td>0</td>\n",
       "    </tr>\n",
       "    <tr>\n",
       "      <th>1</th>\n",
       "      <td>22271</td>\n",
       "      <td>18:26:26</td>\n",
       "      <td>114.190598</td>\n",
       "      <td>22.647800</td>\n",
       "      <td>0</td>\n",
       "      <td>4</td>\n",
       "    </tr>\n",
       "    <tr>\n",
       "      <th>2</th>\n",
       "      <td>22271</td>\n",
       "      <td>18:35:18</td>\n",
       "      <td>114.201401</td>\n",
       "      <td>22.649700</td>\n",
       "      <td>0</td>\n",
       "      <td>0</td>\n",
       "    </tr>\n",
       "    <tr>\n",
       "      <th>3</th>\n",
       "      <td>22271</td>\n",
       "      <td>16:02:46</td>\n",
       "      <td>114.233498</td>\n",
       "      <td>22.725901</td>\n",
       "      <td>0</td>\n",
       "      <td>24</td>\n",
       "    </tr>\n",
       "    <tr>\n",
       "      <th>4</th>\n",
       "      <td>22271</td>\n",
       "      <td>21:41:17</td>\n",
       "      <td>114.233597</td>\n",
       "      <td>22.720900</td>\n",
       "      <td>0</td>\n",
       "      <td>19</td>\n",
       "    </tr>\n",
       "  </tbody>\n",
       "</table>\n",
       "</div>"
      ],
      "text/plain": [
       "   VehicleNum     Stime         Lng        Lat  OpenStatus  Speed\n",
       "0       22271  22:54:04  114.167000  22.718399           0      0\n",
       "1       22271  18:26:26  114.190598  22.647800           0      4\n",
       "2       22271  18:35:18  114.201401  22.649700           0      0\n",
       "3       22271  16:02:46  114.233498  22.725901           0     24\n",
       "4       22271  21:41:17  114.233597  22.720900           0     19"
      ]
     },
     "execution_count": 23,
     "metadata": {},
     "output_type": "execute_result"
    }
   ],
   "source": [
    "data = data.drop(['Speed1'], axis=1)\n",
    "data.head(5)"
   ]
  },
  {
   "cell_type": "markdown",
   "id": "68d8bbc2-5dc2-47fb-9944-8e72bd917378",
   "metadata": {},
   "source": [
    "- 获取Stime列的第4行数据"
   ]
  },
  {
   "cell_type": "code",
   "execution_count": 24,
   "id": "1cdaedf1-cd3b-4a64-9512-9f60a938f826",
   "metadata": {},
   "outputs": [
    {
     "data": {
      "text/plain": [
       "'16:02:46'"
      ]
     },
     "execution_count": 24,
     "metadata": {},
     "output_type": "execute_result"
    }
   ],
   "source": [
    "data['Stime'].iloc[3]"
   ]
  },
  {
   "cell_type": "markdown",
   "id": "77851d06-c9d9-4576-954b-01a1ccf1ba51",
   "metadata": {},
   "source": [
    "loc[]基于标签索引选取数据<br>\n",
    ".iloc[]基于整数索引选取数据"
   ]
  },
  {
   "cell_type": "markdown",
   "id": "c3dbba26-e8a5-4133-8471-21f116b3751e",
   "metadata": {},
   "source": [
    "# 数据清洗\n",
    "\n",
    "1. 首先，我们将数据按车牌、时间排序，特别要注意，data排序后需要再赋值给data，否则没作用将数据排序，并把排序后的数据赋值给原来的数据"
   ]
  },
  {
   "cell_type": "code",
   "execution_count": 26,
   "id": "38d22474-3e0f-47b1-ad74-fe252ca8556f",
   "metadata": {},
   "outputs": [
    {
     "data": {
      "text/html": [
       "<div>\n",
       "<style scoped>\n",
       "    .dataframe tbody tr th:only-of-type {\n",
       "        vertical-align: middle;\n",
       "    }\n",
       "\n",
       "    .dataframe tbody tr th {\n",
       "        vertical-align: top;\n",
       "    }\n",
       "\n",
       "    .dataframe thead th {\n",
       "        text-align: right;\n",
       "    }\n",
       "</style>\n",
       "<table border=\"1\" class=\"dataframe\">\n",
       "  <thead>\n",
       "    <tr style=\"text-align: right;\">\n",
       "      <th></th>\n",
       "      <th>VehicleNum</th>\n",
       "      <th>Stime</th>\n",
       "      <th>Lng</th>\n",
       "      <th>Lat</th>\n",
       "      <th>OpenStatus</th>\n",
       "      <th>Speed</th>\n",
       "    </tr>\n",
       "  </thead>\n",
       "  <tbody>\n",
       "    <tr>\n",
       "      <th>39</th>\n",
       "      <td>22271</td>\n",
       "      <td>00:00:49</td>\n",
       "      <td>114.266502</td>\n",
       "      <td>22.728201</td>\n",
       "      <td>0</td>\n",
       "      <td>0</td>\n",
       "    </tr>\n",
       "    <tr>\n",
       "      <th>397</th>\n",
       "      <td>22271</td>\n",
       "      <td>00:01:48</td>\n",
       "      <td>114.266502</td>\n",
       "      <td>22.728201</td>\n",
       "      <td>0</td>\n",
       "      <td>0</td>\n",
       "    </tr>\n",
       "    <tr>\n",
       "      <th>1413</th>\n",
       "      <td>22271</td>\n",
       "      <td>00:02:47</td>\n",
       "      <td>114.266502</td>\n",
       "      <td>22.728201</td>\n",
       "      <td>0</td>\n",
       "      <td>0</td>\n",
       "    </tr>\n",
       "    <tr>\n",
       "      <th>244</th>\n",
       "      <td>22271</td>\n",
       "      <td>00:03:46</td>\n",
       "      <td>114.266502</td>\n",
       "      <td>22.728201</td>\n",
       "      <td>0</td>\n",
       "      <td>0</td>\n",
       "    </tr>\n",
       "    <tr>\n",
       "      <th>247</th>\n",
       "      <td>22271</td>\n",
       "      <td>00:04:45</td>\n",
       "      <td>114.268898</td>\n",
       "      <td>22.729500</td>\n",
       "      <td>0</td>\n",
       "      <td>11</td>\n",
       "    </tr>\n",
       "  </tbody>\n",
       "</table>\n",
       "</div>"
      ],
      "text/plain": [
       "      VehicleNum     Stime         Lng        Lat  OpenStatus  Speed\n",
       "39         22271  00:00:49  114.266502  22.728201           0      0\n",
       "397        22271  00:01:48  114.266502  22.728201           0      0\n",
       "1413       22271  00:02:47  114.266502  22.728201           0      0\n",
       "244        22271  00:03:46  114.266502  22.728201           0      0\n",
       "247        22271  00:04:45  114.268898  22.729500           0     11"
      ]
     },
     "execution_count": 26,
     "metadata": {},
     "output_type": "execute_result"
    }
   ],
   "source": [
    "data = data.sort_values(by=['VehicleNum', 'Stime'])\n",
    "data.head(5)"
   ]
  },
  {
   "cell_type": "markdown",
   "id": "8743af62-8803-4a7d-bdf8-374037e65b97",
   "metadata": {},
   "source": [
    "我们现在要做的是，用出租车GPS数据识别OD：\n",
    "\n",
    "数据按车牌、时间排序后，正常情况下的OpenStatus是这样的：\n",
    "\n",
    "|OpenStatus | <br>\n",
    "|0||<br>\n",
    "|0||<br>\n",
    "|0||<br>\n",
    "|0||<br>\n",
    "|0||<br>\n",
    "|1|     ←此时乘客上车了|<br>\n",
    "|1||<br>\n",
    "|1||<br>\n",
    "|1||<br>\n",
    "|1||<br>\n",
    "|1||<br>\n",
    "|1||<br>\n",
    "|0|     ←此时乘客下车了|<br>\n",
    "|0||<br>\n",
    "|0||<br>\n",
    "|0||<br>\n",
    "\n",
    "但是，也会有时候有数据异常出现，比如：\n",
    "\n",
    "|OpenStatus |<br>\n",
    "|0||<br>\n",
    "|0||<br>\n",
    "|0||<br>\n",
    "|0||<br>\n",
    "|0||<br>\n",
    "|1|←异常|<br>\n",
    "|0||<br>\n",
    "|0||<br>\n",
    "|0||<br>\n",
    "|0||<br>\n",
    "\n",
    "或者\n",
    "\n",
    "|OpenStatus | <br>\n",
    "|1||<br>\n",
    "|1||<br>\n",
    "|1||<br>\n",
    "|1||<br>\n",
    "|1||<br>\n",
    "|0|←异常|<br>\n",
    "|1||<br>\n",
    "|1||<br>\n",
    "|1||<br>\n",
    "|1||<br>\n",
    "\n",
    "因此我们要判断的是，如果：<br>\n",
    "后一位和前一位相等，但是后一位与中间一位不等，那么中间一位的数据就要删除（前一条数据，中间一条数据，后一条数据的车牌必须相等）"
   ]
  },
  {
   "cell_type": "markdown",
   "id": "3cf5467f-563a-4b9c-9379-02a18a044405",
   "metadata": {},
   "source": [
    "3. 把上述异常数据清洗出来\n",
    "用到的条件是：<br>\n",
    "(1)后一位和前一位相等<br>\n",
    "(2)但是后一位与中间一位不等<br>\n",
    "(3)前一条数据，后一条数据的车牌相等<br>\n",
    "(4)中间一条数据，后一条数据的车牌相等"
   ]
  },
  {
   "cell_type": "code",
   "execution_count": 27,
   "id": "0cdc2300-650e-4ae1-be1d-99f750ad950b",
   "metadata": {},
   "outputs": [
    {
     "data": {
      "text/plain": [
       "1601307"
      ]
     },
     "execution_count": 27,
     "metadata": {},
     "output_type": "execute_result"
    }
   ],
   "source": [
    "len(data)"
   ]
  },
  {
   "cell_type": "code",
   "execution_count": 28,
   "id": "51d74045-933b-403e-a2e2-68e801ebafa5",
   "metadata": {},
   "outputs": [],
   "source": [
    "data = data[-((data['OpenStatus'].shift(-1) == data['OpenStatus'].shift()) &\n",
    "              (data['OpenStatus'].shift(-1) != data['OpenStatus']) &\n",
    "              (data['VehicleNum'].shift(-1) == data['VehicleNum'].shift()) &\n",
    "              (data['VehicleNum'].shift(-1) == data['VehicleNum']))]"
   ]
  },
  {
   "cell_type": "code",
   "execution_count": 29,
   "id": "b6485d67-310a-46d6-b598-1efa1378d160",
   "metadata": {},
   "outputs": [
    {
     "data": {
      "text/plain": [
       "1598866"
      ]
     },
     "execution_count": 29,
     "metadata": {},
     "output_type": "execute_result"
    }
   ],
   "source": [
    "len(data)"
   ]
  },
  {
   "cell_type": "markdown",
   "id": "66e4fc22-cfa1-444b-b2f3-faa5cd1e8e3b",
   "metadata": {},
   "source": [
    "# 生成OD数据\n",
    "1. 乘客上下车的状态变化识别\n",
    "\n",
    "接下来，我们把下一条数据的信息放到前一条数据上，这样子，就能很方便的比较这条数据和下条数据的差异\n",
    "在字段名加个1，代表后面一条数据的值\n",
    "另外我们定义StatusChange为下一条数据的OpenStatus减去这一条数据的OpenStatus，这样就会出现：\n",
    "\n",
    "|OpenStatus|OpenStatus1|StatusChange||<br>\n",
    "|----------|-----------|------------||<br>\n",
    "|----0-----|-----0-----|-----0------||<br>\n",
    "|----0-----|-----0-----|-----0------||<br>\n",
    "|----0-----|-----0-----|-----0------||<br>\n",
    "|----0-----|-----1-----|-----1------| ←此时乘客上车了|<br>\n",
    "|----1-----|-----1-----|-----0------| ←此时乘客上车了|<br>\n",
    "|----1-----|-----1-----|-----0------||<br>\n",
    "|----1-----|-----1-----|-----0------||<br>\n",
    "|----1-----|-----1-----|-----0------||<br>\n",
    "|----1-----|-----1-----|-----0------||<br>\n",
    "|----1-----|-----1-----|-----0------||<br>\n",
    "|----1-----|-----1-----|-----0------||<br>\n",
    "|----1-----|-----1-----|-----0------||<br>\n",
    "|----1-----|-----1-----|-----0------||<br>\n",
    "|----1-----|-----0-----|------1-----| ←此时乘客下车了|<br>\n",
    "|----0-----|-----0-----|-----0------| ←此时乘客下车了|<br>\n",
    "|----0-----|-----0-----|-----0------||<br>\n",
    "|----0-----|-----0-----|-----0------||<br>\n",
    "|----0-----|-----0-----|-----0------||<br>\n",
    " "
   ]
  },
  {
   "cell_type": "code",
   "execution_count": 30,
   "id": "9d074345-b19a-4874-804a-7b65f9b6b70a",
   "metadata": {},
   "outputs": [],
   "source": [
    "data.loc[:, 'OpenStatus1'] = data['OpenStatus'].shift(-1)\n",
    "data.loc[:, 'VehicleNum1'] = data['VehicleNum'].shift(-1)"
   ]
  },
  {
   "cell_type": "code",
   "execution_count": 31,
   "id": "15560668-f1a2-4c55-a6d1-2d20d7445066",
   "metadata": {
    "tags": []
   },
   "outputs": [],
   "source": [
    "data.loc[:, 'StatusChange'] = data['OpenStatus1'] - data['OpenStatus']"
   ]
  },
  {
   "cell_type": "markdown",
   "id": "f7edd9f3-6471-48f3-bd8b-e667db85792e",
   "metadata": {},
   "source": [
    "2. 将上下车状态整理为OD\n",
    "\n",
    "这里，我只想保留StatusChange字段为1或者-1的数据，因此要把这些数据筛出来<br>\n",
    "不过，还得加一个条件，就是这条数据和下一条数据的车辆ID必须是相同的"
   ]
  },
  {
   "cell_type": "code",
   "execution_count": 32,
   "id": "c9e30138-1f58-4686-ad85-7d28ada95342",
   "metadata": {},
   "outputs": [],
   "source": [
    "data = data[((data['StatusChange'] == 1) | (data['StatusChange'] == -1))\n",
    "            & (data['VehicleNum'] == data['VehicleNum1'])]"
   ]
  },
  {
   "cell_type": "code",
   "execution_count": 33,
   "id": "9b7fa577-8531-4937-81f0-a5912397ba36",
   "metadata": {},
   "outputs": [
    {
     "data": {
      "text/html": [
       "<div>\n",
       "<style scoped>\n",
       "    .dataframe tbody tr th:only-of-type {\n",
       "        vertical-align: middle;\n",
       "    }\n",
       "\n",
       "    .dataframe tbody tr th {\n",
       "        vertical-align: top;\n",
       "    }\n",
       "\n",
       "    .dataframe thead th {\n",
       "        text-align: right;\n",
       "    }\n",
       "</style>\n",
       "<table border=\"1\" class=\"dataframe\">\n",
       "  <thead>\n",
       "    <tr style=\"text-align: right;\">\n",
       "      <th></th>\n",
       "      <th>VehicleNum</th>\n",
       "      <th>Stime</th>\n",
       "      <th>Lng</th>\n",
       "      <th>Lat</th>\n",
       "      <th>StatusChange</th>\n",
       "    </tr>\n",
       "  </thead>\n",
       "  <tbody>\n",
       "    <tr>\n",
       "      <th>1548741</th>\n",
       "      <td>22334</td>\n",
       "      <td>00:00:52</td>\n",
       "      <td>114.111130</td>\n",
       "      <td>22.576750</td>\n",
       "      <td>-1.0</td>\n",
       "    </tr>\n",
       "    <tr>\n",
       "      <th>1548351</th>\n",
       "      <td>22334</td>\n",
       "      <td>00:07:44</td>\n",
       "      <td>114.080498</td>\n",
       "      <td>22.554182</td>\n",
       "      <td>1.0</td>\n",
       "    </tr>\n",
       "    <tr>\n",
       "      <th>1549620</th>\n",
       "      <td>22334</td>\n",
       "      <td>00:17:58</td>\n",
       "      <td>114.084915</td>\n",
       "      <td>22.540850</td>\n",
       "      <td>-1.0</td>\n",
       "    </tr>\n",
       "    <tr>\n",
       "      <th>1547182</th>\n",
       "      <td>22334</td>\n",
       "      <td>00:18:56</td>\n",
       "      <td>114.084915</td>\n",
       "      <td>22.540850</td>\n",
       "      <td>1.0</td>\n",
       "    </tr>\n",
       "    <tr>\n",
       "      <th>1547627</th>\n",
       "      <td>22334</td>\n",
       "      <td>00:44:47</td>\n",
       "      <td>114.056236</td>\n",
       "      <td>22.633383</td>\n",
       "      <td>-1.0</td>\n",
       "    </tr>\n",
       "  </tbody>\n",
       "</table>\n",
       "</div>"
      ],
      "text/plain": [
       "         VehicleNum     Stime         Lng        Lat  StatusChange\n",
       "1548741       22334  00:00:52  114.111130  22.576750          -1.0\n",
       "1548351       22334  00:07:44  114.080498  22.554182           1.0\n",
       "1549620       22334  00:17:58  114.084915  22.540850          -1.0\n",
       "1547182       22334  00:18:56  114.084915  22.540850           1.0\n",
       "1547627       22334  00:44:47  114.056236  22.633383          -1.0"
      ]
     },
     "execution_count": 33,
     "metadata": {},
     "output_type": "execute_result"
    }
   ],
   "source": [
    "# data数据只保留一些我们需要的字段\n",
    "data = data[['VehicleNum', 'Stime', 'Lng', 'Lat', 'StatusChange']]\n",
    "data.head(5)"
   ]
  },
  {
   "cell_type": "markdown",
   "id": "634fcd14-fb16-40ae-90c3-024c16e3b399",
   "metadata": {},
   "source": [
    "3. 生成OD记录\n",
    "\n",
    "我们现在就得到了乘客哪里上车，哪里下车。<br>\n",
    "而我们想要得到的OD数据形式是，每一行记录包括了信息：车辆ID，上车时间，上车地点，下车时间，下车地点<br>\n",
    "这样一行数据就是一个OD<br>"
   ]
  },
  {
   "cell_type": "code",
   "execution_count": 34,
   "id": "6d1f70ad-bf65-43b4-8631-2afd25bb2aba",
   "metadata": {},
   "outputs": [],
   "source": [
    "data = data.rename(columns={'Lng': 'SLng', 'Lat': 'SLat'})\n",
    "data['ELng'] = data['SLng'].shift(-1)\n",
    "data['ELat'] = data['SLat'].shift(-1)\n",
    "data['Etime'] = data['Stime'].shift(-1)\n",
    "data = data[data['StatusChange'] == 1]\n",
    "data = data.drop('StatusChange', axis=1)"
   ]
  },
  {
   "cell_type": "code",
   "execution_count": 35,
   "id": "46b5fa91-4a7d-4e62-bc31-3971dafaf1c7",
   "metadata": {},
   "outputs": [],
   "source": [
    "# ########## 保存\n",
    "data.to_csv(r'data-sample\\TaxiOD-Sample.csv', index=None)"
   ]
  },
  {
   "cell_type": "code",
   "execution_count": null,
   "id": "2af07ba4-02c5-4acc-be58-ae3b59ffe90c",
   "metadata": {},
   "outputs": [],
   "source": []
  }
 ],
 "metadata": {
  "kernelspec": {
   "display_name": "Python 3 (ipykernel)",
   "language": "python",
   "name": "python3"
  },
  "language_info": {
   "codemirror_mode": {
    "name": "ipython",
    "version": 3
   },
   "file_extension": ".py",
   "mimetype": "text/x-python",
   "name": "python",
   "nbconvert_exporter": "python",
   "pygments_lexer": "ipython3",
   "version": "3.9.12"
  }
 },
 "nbformat": 4,
 "nbformat_minor": 5
}
